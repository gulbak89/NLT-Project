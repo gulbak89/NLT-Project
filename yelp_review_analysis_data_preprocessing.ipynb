{
 "cells": [
  {
   "cell_type": "code",
   "execution_count": 2,
   "id": "dfbc6737-de17-4b4e-aa1f-7a502e01783b",
   "metadata": {
    "tags": []
   },
   "outputs": [],
   "source": [
    "import numpy as np\n",
    "import pandas as pd\n",
    "import matplotlib.pyplot as plt\n",
    "import seaborn as sns\n",
    "import string\n",
    "from nltk.corpus import stopwords\n",
    "\n"
   ]
  },
  {
   "cell_type": "markdown",
   "id": "138a4905-0cb7-460e-bd8d-2bf221bcd7d4",
   "metadata": {},
   "source": [
    "## 1. About the Dataset"
   ]
  },
  {
   "cell_type": "markdown",
   "id": "bf72eb90-38a0-4209-b426-aa3c28cc2cdc",
   "metadata": {},
   "source": [
    "### 1.1 Load the Dataset "
   ]
  },
  {
   "cell_type": "code",
   "execution_count": 4,
   "id": "6fcf6e86-3045-4cbd-b0db-92a0cb973607",
   "metadata": {
    "tags": []
   },
   "outputs": [
    {
     "data": {
      "text/html": [
       "<div>\n",
       "<style scoped>\n",
       "    .dataframe tbody tr th:only-of-type {\n",
       "        vertical-align: middle;\n",
       "    }\n",
       "\n",
       "    .dataframe tbody tr th {\n",
       "        vertical-align: top;\n",
       "    }\n",
       "\n",
       "    .dataframe thead th {\n",
       "        text-align: right;\n",
       "    }\n",
       "</style>\n",
       "<table border=\"1\" class=\"dataframe\">\n",
       "  <thead>\n",
       "    <tr style=\"text-align: right;\">\n",
       "      <th></th>\n",
       "      <th>votes</th>\n",
       "      <th>user_id</th>\n",
       "      <th>review_id</th>\n",
       "      <th>stars</th>\n",
       "      <th>date</th>\n",
       "      <th>text</th>\n",
       "      <th>type</th>\n",
       "      <th>business_id</th>\n",
       "    </tr>\n",
       "  </thead>\n",
       "  <tbody>\n",
       "    <tr>\n",
       "      <th>0</th>\n",
       "      <td>{'funny': 0, 'useful': 5, 'cool': 2}</td>\n",
       "      <td>rLtl8ZkDX5vH5nAx9C3q5Q</td>\n",
       "      <td>fWKvX83p0-ka4JS3dc6E5A</td>\n",
       "      <td>5</td>\n",
       "      <td>2011-01-26</td>\n",
       "      <td>My wife took me here on my birthday for breakf...</td>\n",
       "      <td>review</td>\n",
       "      <td>9yKzy9PApeiPPOUJEtnvkg</td>\n",
       "    </tr>\n",
       "    <tr>\n",
       "      <th>1</th>\n",
       "      <td>{'funny': 0, 'useful': 0, 'cool': 0}</td>\n",
       "      <td>0a2KyEL0d3Yb1V6aivbIuQ</td>\n",
       "      <td>IjZ33sJrzXqU-0X6U8NwyA</td>\n",
       "      <td>5</td>\n",
       "      <td>2011-07-27</td>\n",
       "      <td>I have no idea why some people give bad review...</td>\n",
       "      <td>review</td>\n",
       "      <td>ZRJwVLyzEJq1VAihDhYiow</td>\n",
       "    </tr>\n",
       "    <tr>\n",
       "      <th>2</th>\n",
       "      <td>{'funny': 0, 'useful': 1, 'cool': 0}</td>\n",
       "      <td>0hT2KtfLiobPvh6cDC8JQg</td>\n",
       "      <td>IESLBzqUCLdSzSqm0eCSxQ</td>\n",
       "      <td>4</td>\n",
       "      <td>2012-06-14</td>\n",
       "      <td>love the gyro plate. Rice is so good and I als...</td>\n",
       "      <td>review</td>\n",
       "      <td>6oRAC4uyJCsJl1X0WZpVSA</td>\n",
       "    </tr>\n",
       "    <tr>\n",
       "      <th>3</th>\n",
       "      <td>{'funny': 0, 'useful': 2, 'cool': 1}</td>\n",
       "      <td>uZetl9T0NcROGOyFfughhg</td>\n",
       "      <td>G-WvGaISbqqaMHlNnByodA</td>\n",
       "      <td>5</td>\n",
       "      <td>2010-05-27</td>\n",
       "      <td>Rosie, Dakota, and I LOVE Chaparral Dog Park!!...</td>\n",
       "      <td>review</td>\n",
       "      <td>_1QQZuf4zZOyFCvXc0o6Vg</td>\n",
       "    </tr>\n",
       "    <tr>\n",
       "      <th>4</th>\n",
       "      <td>{'funny': 0, 'useful': 0, 'cool': 0}</td>\n",
       "      <td>vYmM4KTsC8ZfQBg-j5MWkw</td>\n",
       "      <td>1uJFq2r5QfJG_6ExMRCaGw</td>\n",
       "      <td>5</td>\n",
       "      <td>2012-01-05</td>\n",
       "      <td>General Manager Scott Petello is a good egg!!!...</td>\n",
       "      <td>review</td>\n",
       "      <td>6ozycU1RpktNG2-1BroVtw</td>\n",
       "    </tr>\n",
       "  </tbody>\n",
       "</table>\n",
       "</div>"
      ],
      "text/plain": [
       "                                  votes                 user_id  \\\n",
       "0  {'funny': 0, 'useful': 5, 'cool': 2}  rLtl8ZkDX5vH5nAx9C3q5Q   \n",
       "1  {'funny': 0, 'useful': 0, 'cool': 0}  0a2KyEL0d3Yb1V6aivbIuQ   \n",
       "2  {'funny': 0, 'useful': 1, 'cool': 0}  0hT2KtfLiobPvh6cDC8JQg   \n",
       "3  {'funny': 0, 'useful': 2, 'cool': 1}  uZetl9T0NcROGOyFfughhg   \n",
       "4  {'funny': 0, 'useful': 0, 'cool': 0}  vYmM4KTsC8ZfQBg-j5MWkw   \n",
       "\n",
       "                review_id  stars       date  \\\n",
       "0  fWKvX83p0-ka4JS3dc6E5A      5 2011-01-26   \n",
       "1  IjZ33sJrzXqU-0X6U8NwyA      5 2011-07-27   \n",
       "2  IESLBzqUCLdSzSqm0eCSxQ      4 2012-06-14   \n",
       "3  G-WvGaISbqqaMHlNnByodA      5 2010-05-27   \n",
       "4  1uJFq2r5QfJG_6ExMRCaGw      5 2012-01-05   \n",
       "\n",
       "                                                text    type  \\\n",
       "0  My wife took me here on my birthday for breakf...  review   \n",
       "1  I have no idea why some people give bad review...  review   \n",
       "2  love the gyro plate. Rice is so good and I als...  review   \n",
       "3  Rosie, Dakota, and I LOVE Chaparral Dog Park!!...  review   \n",
       "4  General Manager Scott Petello is a good egg!!!...  review   \n",
       "\n",
       "              business_id  \n",
       "0  9yKzy9PApeiPPOUJEtnvkg  \n",
       "1  ZRJwVLyzEJq1VAihDhYiow  \n",
       "2  6oRAC4uyJCsJl1X0WZpVSA  \n",
       "3  _1QQZuf4zZOyFCvXc0o6Vg  \n",
       "4  6ozycU1RpktNG2-1BroVtw  "
      ]
     },
     "execution_count": 4,
     "metadata": {},
     "output_type": "execute_result"
    }
   ],
   "source": [
    "df = pd.read_json('yelp_training_set_review.json', lines=True)\n",
    "df.head()"
   ]
  },
  {
   "cell_type": "markdown",
   "id": "76fe07fe-b183-41f7-b40c-540d3143eed2",
   "metadata": {},
   "source": [
    "### 1.2 Dataset Glossary"
   ]
  },
  {
   "cell_type": "markdown",
   "id": "d4fdf594-ff19-44ba-a0fc-ec26bb8d8bb4",
   "metadata": {
    "tags": []
   },
   "source": [
    "**votes**: This column represents the aggregated counts of votes from users on the usefulness, humor, or coolness of a review.\n",
    "\n",
    "**user_id**: This is a unique identifier for each user who provides reviews on Yelp.\n",
    "\n",
    "**review_id**: This is a unique identifier for each review.\n",
    "\n",
    "**star**: Ratings range from 1 to 5 stars, with 1 being the lowest rating and 5 being the highest rating. Users assign stars to indicate their overall satisfaction or experience with the business or service being reviewed.\n",
    "\n",
    "**date**: This column represents the date and time when users submitted their reviews on Yelp.\n",
    "\n",
    "**text**: This column contains the comments or written reviews provided by users.\n",
    "\n",
    "**type**: This column indicates the type of content, which is a review in this case.\n",
    "\n",
    "**business_id**: This is a unique identifier for each business. Each review is associated with a specific business identified by this ID."
   ]
  },
  {
   "cell_type": "markdown",
   "id": "672b6415-bda6-4d08-834a-060f4689fd3f",
   "metadata": {},
   "source": [
    "## 2. Data Preprocessing"
   ]
  },
  {
   "cell_type": "code",
   "execution_count": 5,
   "id": "579ca0fb-c3be-46de-871f-27259ce12002",
   "metadata": {
    "tags": []
   },
   "outputs": [
    {
     "data": {
      "text/plain": [
       "(229907, 8)"
      ]
     },
     "execution_count": 5,
     "metadata": {},
     "output_type": "execute_result"
    }
   ],
   "source": [
    "# check how many rows and columns in this dataset\n",
    "\n",
    "df.shape"
   ]
  },
  {
   "cell_type": "markdown",
   "id": "3b90fe0e-f214-4918-9605-1cd45f1aa759",
   "metadata": {},
   "source": [
    "There are 229907 rows and 8 columns in this dataset."
   ]
  },
  {
   "cell_type": "code",
   "execution_count": 6,
   "id": "88aebeae-d8e0-4c55-a4c9-92ad66eb83c9",
   "metadata": {
    "tags": []
   },
   "outputs": [
    {
     "data": {
      "text/plain": [
       "Index(['votes', 'user_id', 'review_id', 'stars', 'date', 'text', 'type',\n",
       "       'business_id'],\n",
       "      dtype='object')"
      ]
     },
     "execution_count": 6,
     "metadata": {},
     "output_type": "execute_result"
    }
   ],
   "source": [
    "# to get all the columns' name\n",
    "df.columns"
   ]
  },
  {
   "cell_type": "code",
   "execution_count": 7,
   "id": "e20a8c19-3666-4fdd-97c8-031c92a34325",
   "metadata": {
    "tags": []
   },
   "outputs": [
    {
     "name": "stdout",
     "output_type": "stream",
     "text": [
      "<class 'pandas.core.frame.DataFrame'>\n",
      "Index: 229907 entries, 0 to 229906\n",
      "Data columns (total 8 columns):\n",
      " #   Column       Non-Null Count   Dtype         \n",
      "---  ------       --------------   -----         \n",
      " 0   votes        229907 non-null  object        \n",
      " 1   user_id      229907 non-null  object        \n",
      " 2   review_id    229907 non-null  object        \n",
      " 3   stars        229907 non-null  int64         \n",
      " 4   date         229907 non-null  datetime64[ns]\n",
      " 5   text         229907 non-null  object        \n",
      " 6   type         229907 non-null  object        \n",
      " 7   business_id  229907 non-null  object        \n",
      "dtypes: datetime64[ns](1), int64(1), object(6)\n",
      "memory usage: 15.8+ MB\n"
     ]
    }
   ],
   "source": [
    "# To check datatype of each column, and check if there is any null value in this dataset\n",
    "df.info()"
   ]
  },
  {
   "cell_type": "markdown",
   "id": "25d1c116-210b-4573-8c1f-866377bad329",
   "metadata": {},
   "source": [
    "There is no any null value in this dataset."
   ]
  },
  {
   "cell_type": "code",
   "execution_count": 8,
   "id": "c0310e0f-720b-4955-938c-04d382e86511",
   "metadata": {},
   "outputs": [
    {
     "data": {
      "text/html": [
       "<div>\n",
       "<style scoped>\n",
       "    .dataframe tbody tr th:only-of-type {\n",
       "        vertical-align: middle;\n",
       "    }\n",
       "\n",
       "    .dataframe tbody tr th {\n",
       "        vertical-align: top;\n",
       "    }\n",
       "\n",
       "    .dataframe thead th {\n",
       "        text-align: right;\n",
       "    }\n",
       "</style>\n",
       "<table border=\"1\" class=\"dataframe\">\n",
       "  <thead>\n",
       "    <tr style=\"text-align: right;\">\n",
       "      <th></th>\n",
       "      <th>funny</th>\n",
       "      <th>useful</th>\n",
       "      <th>cool</th>\n",
       "    </tr>\n",
       "  </thead>\n",
       "  <tbody>\n",
       "    <tr>\n",
       "      <th>0</th>\n",
       "      <td>0</td>\n",
       "      <td>5</td>\n",
       "      <td>2</td>\n",
       "    </tr>\n",
       "    <tr>\n",
       "      <th>1</th>\n",
       "      <td>0</td>\n",
       "      <td>0</td>\n",
       "      <td>0</td>\n",
       "    </tr>\n",
       "    <tr>\n",
       "      <th>2</th>\n",
       "      <td>0</td>\n",
       "      <td>1</td>\n",
       "      <td>0</td>\n",
       "    </tr>\n",
       "    <tr>\n",
       "      <th>3</th>\n",
       "      <td>0</td>\n",
       "      <td>2</td>\n",
       "      <td>1</td>\n",
       "    </tr>\n",
       "    <tr>\n",
       "      <th>4</th>\n",
       "      <td>0</td>\n",
       "      <td>0</td>\n",
       "      <td>0</td>\n",
       "    </tr>\n",
       "    <tr>\n",
       "      <th>...</th>\n",
       "      <td>...</td>\n",
       "      <td>...</td>\n",
       "      <td>...</td>\n",
       "    </tr>\n",
       "    <tr>\n",
       "      <th>229902</th>\n",
       "      <td>0</td>\n",
       "      <td>0</td>\n",
       "      <td>0</td>\n",
       "    </tr>\n",
       "    <tr>\n",
       "      <th>229903</th>\n",
       "      <td>0</td>\n",
       "      <td>2</td>\n",
       "      <td>0</td>\n",
       "    </tr>\n",
       "    <tr>\n",
       "      <th>229904</th>\n",
       "      <td>0</td>\n",
       "      <td>0</td>\n",
       "      <td>0</td>\n",
       "    </tr>\n",
       "    <tr>\n",
       "      <th>229905</th>\n",
       "      <td>1</td>\n",
       "      <td>2</td>\n",
       "      <td>0</td>\n",
       "    </tr>\n",
       "    <tr>\n",
       "      <th>229906</th>\n",
       "      <td>1</td>\n",
       "      <td>0</td>\n",
       "      <td>1</td>\n",
       "    </tr>\n",
       "  </tbody>\n",
       "</table>\n",
       "<p>229907 rows × 3 columns</p>\n",
       "</div>"
      ],
      "text/plain": [
       "        funny  useful  cool\n",
       "0           0       5     2\n",
       "1           0       0     0\n",
       "2           0       1     0\n",
       "3           0       2     1\n",
       "4           0       0     0\n",
       "...       ...     ...   ...\n",
       "229902      0       0     0\n",
       "229903      0       2     0\n",
       "229904      0       0     0\n",
       "229905      1       2     0\n",
       "229906      1       0     1\n",
       "\n",
       "[229907 rows x 3 columns]"
      ]
     },
     "execution_count": 8,
     "metadata": {},
     "output_type": "execute_result"
    }
   ],
   "source": [
    "# nomalize json formet in votes column.\n",
    "votes_normalize = pd.json_normalize(df['votes'])\n",
    "votes_normalize"
   ]
  },
  {
   "cell_type": "code",
   "execution_count": 9,
   "id": "ad5e3bf0-b5bf-47dd-97f8-0f26077cc0cc",
   "metadata": {
    "tags": []
   },
   "outputs": [
    {
     "data": {
      "text/html": [
       "<div>\n",
       "<style scoped>\n",
       "    .dataframe tbody tr th:only-of-type {\n",
       "        vertical-align: middle;\n",
       "    }\n",
       "\n",
       "    .dataframe tbody tr th {\n",
       "        vertical-align: top;\n",
       "    }\n",
       "\n",
       "    .dataframe thead th {\n",
       "        text-align: right;\n",
       "    }\n",
       "</style>\n",
       "<table border=\"1\" class=\"dataframe\">\n",
       "  <thead>\n",
       "    <tr style=\"text-align: right;\">\n",
       "      <th></th>\n",
       "      <th>user_id</th>\n",
       "      <th>review_id</th>\n",
       "      <th>stars</th>\n",
       "      <th>date</th>\n",
       "      <th>text</th>\n",
       "      <th>type</th>\n",
       "      <th>business_id</th>\n",
       "      <th>funny</th>\n",
       "      <th>useful</th>\n",
       "      <th>cool</th>\n",
       "    </tr>\n",
       "  </thead>\n",
       "  <tbody>\n",
       "    <tr>\n",
       "      <th>0</th>\n",
       "      <td>rLtl8ZkDX5vH5nAx9C3q5Q</td>\n",
       "      <td>fWKvX83p0-ka4JS3dc6E5A</td>\n",
       "      <td>5</td>\n",
       "      <td>2011-01-26</td>\n",
       "      <td>My wife took me here on my birthday for breakf...</td>\n",
       "      <td>review</td>\n",
       "      <td>9yKzy9PApeiPPOUJEtnvkg</td>\n",
       "      <td>0</td>\n",
       "      <td>5</td>\n",
       "      <td>2</td>\n",
       "    </tr>\n",
       "    <tr>\n",
       "      <th>1</th>\n",
       "      <td>0a2KyEL0d3Yb1V6aivbIuQ</td>\n",
       "      <td>IjZ33sJrzXqU-0X6U8NwyA</td>\n",
       "      <td>5</td>\n",
       "      <td>2011-07-27</td>\n",
       "      <td>I have no idea why some people give bad review...</td>\n",
       "      <td>review</td>\n",
       "      <td>ZRJwVLyzEJq1VAihDhYiow</td>\n",
       "      <td>0</td>\n",
       "      <td>0</td>\n",
       "      <td>0</td>\n",
       "    </tr>\n",
       "    <tr>\n",
       "      <th>2</th>\n",
       "      <td>0hT2KtfLiobPvh6cDC8JQg</td>\n",
       "      <td>IESLBzqUCLdSzSqm0eCSxQ</td>\n",
       "      <td>4</td>\n",
       "      <td>2012-06-14</td>\n",
       "      <td>love the gyro plate. Rice is so good and I als...</td>\n",
       "      <td>review</td>\n",
       "      <td>6oRAC4uyJCsJl1X0WZpVSA</td>\n",
       "      <td>0</td>\n",
       "      <td>1</td>\n",
       "      <td>0</td>\n",
       "    </tr>\n",
       "    <tr>\n",
       "      <th>3</th>\n",
       "      <td>uZetl9T0NcROGOyFfughhg</td>\n",
       "      <td>G-WvGaISbqqaMHlNnByodA</td>\n",
       "      <td>5</td>\n",
       "      <td>2010-05-27</td>\n",
       "      <td>Rosie, Dakota, and I LOVE Chaparral Dog Park!!...</td>\n",
       "      <td>review</td>\n",
       "      <td>_1QQZuf4zZOyFCvXc0o6Vg</td>\n",
       "      <td>0</td>\n",
       "      <td>2</td>\n",
       "      <td>1</td>\n",
       "    </tr>\n",
       "    <tr>\n",
       "      <th>4</th>\n",
       "      <td>vYmM4KTsC8ZfQBg-j5MWkw</td>\n",
       "      <td>1uJFq2r5QfJG_6ExMRCaGw</td>\n",
       "      <td>5</td>\n",
       "      <td>2012-01-05</td>\n",
       "      <td>General Manager Scott Petello is a good egg!!!...</td>\n",
       "      <td>review</td>\n",
       "      <td>6ozycU1RpktNG2-1BroVtw</td>\n",
       "      <td>0</td>\n",
       "      <td>0</td>\n",
       "      <td>0</td>\n",
       "    </tr>\n",
       "    <tr>\n",
       "      <th>...</th>\n",
       "      <td>...</td>\n",
       "      <td>...</td>\n",
       "      <td>...</td>\n",
       "      <td>...</td>\n",
       "      <td>...</td>\n",
       "      <td>...</td>\n",
       "      <td>...</td>\n",
       "      <td>...</td>\n",
       "      <td>...</td>\n",
       "      <td>...</td>\n",
       "    </tr>\n",
       "    <tr>\n",
       "      <th>229902</th>\n",
       "      <td>6e7pZofhDuIlD_rX2oYirQ</td>\n",
       "      <td>f9JaiNg_FMoPNWxt7MlbZQ</td>\n",
       "      <td>2</td>\n",
       "      <td>2011-04-14</td>\n",
       "      <td>I really wanted to like this place because it'...</td>\n",
       "      <td>review</td>\n",
       "      <td>vnffHkFJbmd-J3OaBbK2Eg</td>\n",
       "      <td>0</td>\n",
       "      <td>0</td>\n",
       "      <td>0</td>\n",
       "    </tr>\n",
       "    <tr>\n",
       "      <th>229903</th>\n",
       "      <td>dDNfSFT0VApxPmURclX6_g</td>\n",
       "      <td>QDWRP1pW5r0huIBAoGmFyg</td>\n",
       "      <td>1</td>\n",
       "      <td>2011-01-23</td>\n",
       "      <td>My husband I stayed here for two nights.  Of c...</td>\n",
       "      <td>review</td>\n",
       "      <td>l5oUrgQ190l8CcN8uzd_pA</td>\n",
       "      <td>0</td>\n",
       "      <td>2</td>\n",
       "      <td>0</td>\n",
       "    </tr>\n",
       "    <tr>\n",
       "      <th>229904</th>\n",
       "      <td>M5wHt6Odh1k5v0tIjqd8DQ</td>\n",
       "      <td>JmR3yk7JlS1LVVxtIc3xBQ</td>\n",
       "      <td>4</td>\n",
       "      <td>2010-10-11</td>\n",
       "      <td>Cool atmosphere. A lot of beers on tap and goo...</td>\n",
       "      <td>review</td>\n",
       "      <td>-EctXOb3B7T177jGYUhjVA</td>\n",
       "      <td>0</td>\n",
       "      <td>0</td>\n",
       "      <td>0</td>\n",
       "    </tr>\n",
       "    <tr>\n",
       "      <th>229905</th>\n",
       "      <td>jopndPrv-H5KW2CfScnw9A</td>\n",
       "      <td>z5b2p5TbCg0uaIiIe8n62w</td>\n",
       "      <td>3</td>\n",
       "      <td>2011-01-18</td>\n",
       "      <td>I have to take a star off for the spotty servi...</td>\n",
       "      <td>review</td>\n",
       "      <td>YQvg0JCGRFUkb6reMMf3Iw</td>\n",
       "      <td>1</td>\n",
       "      <td>2</td>\n",
       "      <td>0</td>\n",
       "    </tr>\n",
       "    <tr>\n",
       "      <th>229906</th>\n",
       "      <td>mbRUG6h0Mgb2XIJvscIoMg</td>\n",
       "      <td>QM1rFJsW-ZJoCHbgsysKaw</td>\n",
       "      <td>5</td>\n",
       "      <td>2010-08-14</td>\n",
       "      <td>So cool, yo.</td>\n",
       "      <td>review</td>\n",
       "      <td>gKxOZvQTTd5hpFa3r5igGQ</td>\n",
       "      <td>1</td>\n",
       "      <td>0</td>\n",
       "      <td>1</td>\n",
       "    </tr>\n",
       "  </tbody>\n",
       "</table>\n",
       "<p>229907 rows × 10 columns</p>\n",
       "</div>"
      ],
      "text/plain": [
       "                       user_id               review_id  stars       date  \\\n",
       "0       rLtl8ZkDX5vH5nAx9C3q5Q  fWKvX83p0-ka4JS3dc6E5A      5 2011-01-26   \n",
       "1       0a2KyEL0d3Yb1V6aivbIuQ  IjZ33sJrzXqU-0X6U8NwyA      5 2011-07-27   \n",
       "2       0hT2KtfLiobPvh6cDC8JQg  IESLBzqUCLdSzSqm0eCSxQ      4 2012-06-14   \n",
       "3       uZetl9T0NcROGOyFfughhg  G-WvGaISbqqaMHlNnByodA      5 2010-05-27   \n",
       "4       vYmM4KTsC8ZfQBg-j5MWkw  1uJFq2r5QfJG_6ExMRCaGw      5 2012-01-05   \n",
       "...                        ...                     ...    ...        ...   \n",
       "229902  6e7pZofhDuIlD_rX2oYirQ  f9JaiNg_FMoPNWxt7MlbZQ      2 2011-04-14   \n",
       "229903  dDNfSFT0VApxPmURclX6_g  QDWRP1pW5r0huIBAoGmFyg      1 2011-01-23   \n",
       "229904  M5wHt6Odh1k5v0tIjqd8DQ  JmR3yk7JlS1LVVxtIc3xBQ      4 2010-10-11   \n",
       "229905  jopndPrv-H5KW2CfScnw9A  z5b2p5TbCg0uaIiIe8n62w      3 2011-01-18   \n",
       "229906  mbRUG6h0Mgb2XIJvscIoMg  QM1rFJsW-ZJoCHbgsysKaw      5 2010-08-14   \n",
       "\n",
       "                                                     text    type  \\\n",
       "0       My wife took me here on my birthday for breakf...  review   \n",
       "1       I have no idea why some people give bad review...  review   \n",
       "2       love the gyro plate. Rice is so good and I als...  review   \n",
       "3       Rosie, Dakota, and I LOVE Chaparral Dog Park!!...  review   \n",
       "4       General Manager Scott Petello is a good egg!!!...  review   \n",
       "...                                                   ...     ...   \n",
       "229902  I really wanted to like this place because it'...  review   \n",
       "229903  My husband I stayed here for two nights.  Of c...  review   \n",
       "229904  Cool atmosphere. A lot of beers on tap and goo...  review   \n",
       "229905  I have to take a star off for the spotty servi...  review   \n",
       "229906                                       So cool, yo.  review   \n",
       "\n",
       "                   business_id  funny  useful  cool  \n",
       "0       9yKzy9PApeiPPOUJEtnvkg      0       5     2  \n",
       "1       ZRJwVLyzEJq1VAihDhYiow      0       0     0  \n",
       "2       6oRAC4uyJCsJl1X0WZpVSA      0       1     0  \n",
       "3       _1QQZuf4zZOyFCvXc0o6Vg      0       2     1  \n",
       "4       6ozycU1RpktNG2-1BroVtw      0       0     0  \n",
       "...                        ...    ...     ...   ...  \n",
       "229902  vnffHkFJbmd-J3OaBbK2Eg      0       0     0  \n",
       "229903  l5oUrgQ190l8CcN8uzd_pA      0       2     0  \n",
       "229904  -EctXOb3B7T177jGYUhjVA      0       0     0  \n",
       "229905  YQvg0JCGRFUkb6reMMf3Iw      1       2     0  \n",
       "229906  gKxOZvQTTd5hpFa3r5igGQ      1       0     1  \n",
       "\n",
       "[229907 rows x 10 columns]"
      ]
     },
     "execution_count": 9,
     "metadata": {},
     "output_type": "execute_result"
    }
   ],
   "source": [
    "# Replace normalized 'votes' columns with original 'votes' columns.\n",
    "df_normalized = pd.concat((df,votes_normalize),axis=1).drop(columns='votes')\n",
    "df_normalized"
   ]
  },
  {
   "cell_type": "code",
   "execution_count": 10,
   "id": "dcc2dcbe-152f-4d87-ba78-01d1f4ce9e18",
   "metadata": {
    "tags": []
   },
   "outputs": [],
   "source": [
    "# df_normalized = df_normalized.sample(10)"
   ]
  },
  {
   "cell_type": "code",
   "execution_count": 60,
   "id": "90027bc7-0e76-4564-bba6-d9f1ff592569",
   "metadata": {
    "tags": []
   },
   "outputs": [],
   "source": [
    "import string"
   ]
  },
  {
   "cell_type": "code",
   "execution_count": 61,
   "id": "e299de69-c193-4c11-b5a5-100fabb9b3c9",
   "metadata": {
    "tags": []
   },
   "outputs": [],
   "source": [
    "punct_to_space = {x: ' ' for x in string.punctuation}"
   ]
  },
  {
   "cell_type": "code",
   "execution_count": 62,
   "id": "c6056dc9-4ac9-4508-974d-8c73a0fdd853",
   "metadata": {},
   "outputs": [],
   "source": [
    "# create a function for text cleaning\n",
    "def text_process(text):\n",
    "    \n",
    "    no_punct_text = text.translate(str.maketrans(punct_to_space)).lower() # remove all punctuations \n",
    "    no_puct_no_number_text= ''.join([i for i in no_punct_text if not i.isdigit()]) # remove all the digits\n",
    "    cleaned_text = [i for i in no_puct_no_number_text.split() if i not in stopwords.words('english')] # remoce all stopwords\n",
    "    \n",
    "    \n",
    "    return len(cleaned_text), ' '.join(cleaned_text)  "
   ]
  },
  {
   "cell_type": "code",
   "execution_count": 63,
   "id": "0378c1cf-c6c4-426d-9994-72ab99eaa633",
   "metadata": {
    "tags": []
   },
   "outputs": [
    {
     "data": {
      "text/plain": [
       "(2, 'hi djkfjd')"
      ]
     },
     "execution_count": 63,
     "metadata": {},
     "output_type": "execute_result"
    }
   ],
   "source": [
    "string = 'hi, how 2 djkfjd '\n",
    "text_process(string)"
   ]
  },
  {
   "cell_type": "code",
   "execution_count": 64,
   "id": "b2729acf-b409-4658-a943-c8303dde92b2",
   "metadata": {
    "tags": []
   },
   "outputs": [],
   "source": [
    "df_cleaned = df_normalized.apply(lambda x: text_process(x['text']), axis=1, result_type='expand') # apply text_process funtion to the data"
   ]
  },
  {
   "cell_type": "code",
   "execution_count": 65,
   "id": "0afb1361-bac8-4a03-bb1b-dca14835f492",
   "metadata": {
    "tags": []
   },
   "outputs": [],
   "source": [
    "df_cleaned.columns = ['text_length','text_transformed'] "
   ]
  },
  {
   "cell_type": "code",
   "execution_count": 48,
   "id": "4ccf08d0-1f9a-4788-b607-8d9e5a2b3020",
   "metadata": {
    "tags": []
   },
   "outputs": [
    {
     "data": {
      "text/html": [
       "<div>\n",
       "<style scoped>\n",
       "    .dataframe tbody tr th:only-of-type {\n",
       "        vertical-align: middle;\n",
       "    }\n",
       "\n",
       "    .dataframe tbody tr th {\n",
       "        vertical-align: top;\n",
       "    }\n",
       "\n",
       "    .dataframe thead th {\n",
       "        text-align: right;\n",
       "    }\n",
       "</style>\n",
       "<table border=\"1\" class=\"dataframe\">\n",
       "  <thead>\n",
       "    <tr style=\"text-align: right;\">\n",
       "      <th></th>\n",
       "      <th>text_length</th>\n",
       "      <th>text_transformed</th>\n",
       "    </tr>\n",
       "  </thead>\n",
       "  <tbody>\n",
       "    <tr>\n",
       "      <th>168634</th>\n",
       "      <td>41</td>\n",
       "      <td>nordstrom cafe awesome else get healthy presen...</td>\n",
       "    </tr>\n",
       "    <tr>\n",
       "      <th>204166</th>\n",
       "      <td>138</td>\n",
       "      <td>ok last time lot fun nothing free sincerely en...</td>\n",
       "    </tr>\n",
       "    <tr>\n",
       "      <th>180702</th>\n",
       "      <td>21</td>\n",
       "      <td>must back chicago clark lake enjoying deliciou...</td>\n",
       "    </tr>\n",
       "    <tr>\n",
       "      <th>182441</th>\n",
       "      <td>37</td>\n",
       "      <td>good special diets vegan gluten free luck pizz...</td>\n",
       "    </tr>\n",
       "    <tr>\n",
       "      <th>225926</th>\n",
       "      <td>19</td>\n",
       "      <td>hung pool cabana last weekend day lovely degre...</td>\n",
       "    </tr>\n",
       "  </tbody>\n",
       "</table>\n",
       "</div>"
      ],
      "text/plain": [
       "        text_length                                   text_transformed\n",
       "168634           41  nordstrom cafe awesome else get healthy presen...\n",
       "204166          138  ok last time lot fun nothing free sincerely en...\n",
       "180702           21  must back chicago clark lake enjoying deliciou...\n",
       "182441           37  good special diets vegan gluten free luck pizz...\n",
       "225926           19  hung pool cabana last weekend day lovely degre..."
      ]
     },
     "execution_count": 48,
     "metadata": {},
     "output_type": "execute_result"
    }
   ],
   "source": [
    "df_cleaned.head()"
   ]
  },
  {
   "cell_type": "code",
   "execution_count": 66,
   "id": "810ee1ed-eb8b-4752-90ab-1cbbcb562d59",
   "metadata": {
    "tags": []
   },
   "outputs": [],
   "source": [
    "df_normalized = df_normalized.query('stars == 1 or stars == 5' ) # only select highest review and lowest review for binary classification\n",
    "df_transformed = pd.concat((df_normalized,df_cleaned), axis=1)[['stars','text_transformed','text_length']]\n",
    "df_transformed.to_csv('yelp_training_set_review_transformed.csv', encoding='utf-8', index=False)"
   ]
  },
  {
   "cell_type": "code",
   "execution_count": null,
   "id": "9df6116f-a6cd-41fd-b4bb-854efd5434c0",
   "metadata": {},
   "outputs": [],
   "source": []
  }
 ],
 "metadata": {
  "kernelspec": {
   "display_name": "Python 3 (ipykernel)",
   "language": "python",
   "name": "python3"
  },
  "language_info": {
   "codemirror_mode": {
    "name": "ipython",
    "version": 3
   },
   "file_extension": ".py",
   "mimetype": "text/x-python",
   "name": "python",
   "nbconvert_exporter": "python",
   "pygments_lexer": "ipython3",
   "version": "3.10.13"
  }
 },
 "nbformat": 4,
 "nbformat_minor": 5
}
